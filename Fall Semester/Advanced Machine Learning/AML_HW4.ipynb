{
 "cells": [
  {
   "cell_type": "markdown",
   "metadata": {
    "id": "8R_k_q-xlwE7"
   },
   "source": [
    "# <p style=\"text-align: center;\">MIS 382N: Advanced Machine Learning</p>\n",
    "# <p style=\"text-align: center;\">Homework 4</p>\n",
    "### <p style=\"text-align: center;\">Total points: 55 </p>\n",
    "## <p style=\"text-align: center;\">Due: Wed, **Nov, 3rd** submitted via Canvas by 11:59 pm</p>\n",
    "\n",
    "Your homework should be written in a **Jupyter notebook**. Please make sure your code runs and the graphics (and anything else) are displayed in your notebook before submitting (%matplotlib inline). \n",
    "\n",
    "**Note: Notebooks MUST have the images embedded in them. There will be no regrades if attached images do not render in the notebook. Please re download from canvas after submission and make sure all attached images render without errors. (Hint: Image module from IPython.display)**"
   ]
  },
  {
   "cell_type": "markdown",
   "metadata": {
    "id": "K62r4Kaoly_t"
   },
   "source": [
    "**This can be an individual assignment or group of 2. If you choose to do it as a group, please specify who you are working with (name and EID), then only one student should submit the homework. Put your name and eid here.**\n",
    "\n",
    "Name: Abdullah Khan\n",
    "\n",
    "EID: ak46996\n",
    "\n",
    "Name: Michael Bohnet\n",
    "\n",
    "EID: mrb4383"
   ]
  },
  {
   "cell_type": "markdown",
   "metadata": {
    "id": "dJFRr3e-J9lr"
   },
   "source": [
    "#Question 1: Reject option (10 pts)\n",
    "\n",
    "Consider a binary classification problem with the following loss matrix, where the cost of rejection is a constant. \n",
    "\n",
    "$$\n",
    "   {\\begin{array}{ccccc}\n",
    "   & & \\text{Predicted class} & \\text{           } &\\\\\n",
    "   & & C_1 & C_2 & Reject\\\\\n",
    "   \\text{True class} & C_1 & 0 & 2 & c  \\\\\n",
    "   & C_2 & 4 & 0 & c \\\\\n",
    "  \\end{array} } \n",
    "$$\n",
    "\n",
    "If $c$ = 1, determine the respective predicted classes that will minimize the expected loss when $P(C_1|x)$ falls in different value intervals. That is, please give the decision rules for $C_1$, $C_2$ and $Reject$."
   ]
  },
  {
   "cell_type": "markdown",
   "metadata": {
    "id": "p3dMm-ADQ9sr"
   },
   "source": [
    "## Answer:\n",
    "\n",
    "Expected Losses: \n",
    "\n",
    "C1 loss = 4 ( 1 - p ) \n",
    "\n",
    "C2 loss = 2 ( p )\n",
    "\n",
    "\n",
    "Reject loss = cp + c ( 1 - p ) = c\n",
    "\n",
    "if c = 1: C1 loss versus reject loss:\n",
    "\n",
    "1 = 4 - 4p -> p = 0.75\n",
    "\n",
    "C2 loss versus reject loss: 1 = 2p -> p = 0.5 \n",
    "\n",
    "if 0.5 <= p <= 0.75 then choose reject, the loss of 1 is less than the loss of C1 or the loss of C2\n"
   ]
  },
  {
   "cell_type": "code",
   "execution_count": null,
   "metadata": {},
   "outputs": [],
   "source": [
    "import matplotlib.pyplot as plt\n",
    "import numpy as np\n",
    "\n",
    "\n",
    "fig = plt.figure()\n",
    "\n",
    "ax = plt.axes()\n",
    "\n",
    "p = np.linspace(0,1)\n",
    "y1 = 4-4*p\n",
    "y2 = 2*p\n",
    "\n",
    "ax.plot(p, y1)\n",
    "ax.plot(p, y2)\n",
    "ax.axhline(y=1, color = \"orange\", linestyle = \"--\")\n",
    "ax.axvline(x = 1/3, color = \"blue\", linestyle = \"--\")\n",
    "ax.axvline(x = 1/2, color = \"blue\", linestyle = \"--\")"
   ]
  },
  {
   "cell_type": "markdown",
   "metadata": {
    "id": "PXZOdsIClzeq"
   },
   "source": [
    "# Question 2: Logistic Regression (15 pts) \n",
    "\n",
    "Logistic regression has been traditionally used to classify data when a **linear decision boundary** is adequate. However, having an idea of what the distribution looks like could help one come up with a smart data transformation trick that could make the optimal decision boundary become (near) linear in the transformed space. In this question, you are given 2-dimensional data, and each data point belongs to either class 0 or class 1. \n",
    "\n",
    "a) **(5 pts)** Train a logistic regression classifier using X_train, y_train. Use the trained model to make predictions on X_train, X_test respectively, and then report the accuracies and F1-scores. Sklearn has a very nice [utility](https://scikit-learn.org/stable/modules/generated/sklearn.metrics.classification_report.html) that helps compute the precision, recall, accuracy and F1-scores. \n",
    "\n",
    "b) **(5 pts)** Plot the X_train data using matplotlib, use different colors to represent different classes. Comment on the pattern of data distributions, and reason why the logistic regression classifier in (a) does not perform very well.  \n",
    "\n",
    "c) **(5 pts)** Transform the input X_train and X_test data in such a way that a linear decision boundary will be effective. Train a new logistic regression classifier on this transformed X_train data. Use the trained model to make predictions on transformed X_train, transformed X_test respectively, and then report the accuracies and F1-scores. \n",
    "\n",
    "**Hint**: Carefully analyze the plot you made in (b), observe the decision boundaries, which should guide you towards the right direction."
   ]
  },
  {
   "cell_type": "code",
   "execution_count": 25,
   "metadata": {
    "id": "O1T7hgXEnADb"
   },
   "outputs": [],
   "source": [
    "import numpy as np\n",
    "\n",
    "data = np.load('q2_data.npy', allow_pickle=True)\n",
    "\n",
    "X_train, y_train = data.item().get('X_train'), data.item().get('y_train')\n",
    "X_test, y_test = data.item().get('X_test'), data.item().get('y_test')"
   ]
  },
  {
   "cell_type": "markdown",
   "metadata": {
    "id": "8Pcj3TgwnCpr"
   },
   "source": [
    "## Answer:"
   ]
  },
  {
   "cell_type": "markdown",
   "metadata": {},
   "source": [
    "# Question 2: Part A\n",
    "Train a logistic regression classifier using X_train, y_train. Use the trained model to make predictions on X_train, X_test respectively, and then report the accuracies and F1-scores. Sklearn has a very nice utility that helps compute the precision, recall, accuracy and F1-scores."
   ]
  },
  {
   "cell_type": "code",
   "execution_count": 26,
   "metadata": {},
   "outputs": [
    {
     "name": "stdout",
     "output_type": "stream",
     "text": [
      "              precision    recall  f1-score   support\n",
      "\n",
      "          X1       0.71      1.00      0.83       214\n",
      "          X2       0.00      0.00      0.00        86\n",
      "\n",
      "    accuracy                           0.71       300\n",
      "   macro avg       0.36      0.50      0.42       300\n",
      "weighted avg       0.51      0.71      0.59       300\n",
      "\n",
      "              precision    recall  f1-score   support\n",
      "\n",
      "          X1       0.69      1.00      0.82        69\n",
      "          X2       0.00      0.00      0.00        31\n",
      "\n",
      "    accuracy                           0.69       100\n",
      "   macro avg       0.34      0.50      0.41       100\n",
      "weighted avg       0.48      0.69      0.56       100\n",
      "\n"
     ]
    },
    {
     "name": "stderr",
     "output_type": "stream",
     "text": [
      "/Users/abdullahkhan/opt/anaconda3/lib/python3.8/site-packages/sklearn/metrics/_classification.py:1308: UndefinedMetricWarning: Precision and F-score are ill-defined and being set to 0.0 in labels with no predicted samples. Use `zero_division` parameter to control this behavior.\n",
      "  _warn_prf(average, modifier, msg_start, len(result))\n",
      "/Users/abdullahkhan/opt/anaconda3/lib/python3.8/site-packages/sklearn/metrics/_classification.py:1308: UndefinedMetricWarning: Precision and F-score are ill-defined and being set to 0.0 in labels with no predicted samples. Use `zero_division` parameter to control this behavior.\n",
      "  _warn_prf(average, modifier, msg_start, len(result))\n",
      "/Users/abdullahkhan/opt/anaconda3/lib/python3.8/site-packages/sklearn/metrics/_classification.py:1308: UndefinedMetricWarning: Precision and F-score are ill-defined and being set to 0.0 in labels with no predicted samples. Use `zero_division` parameter to control this behavior.\n",
      "  _warn_prf(average, modifier, msg_start, len(result))\n",
      "/Users/abdullahkhan/opt/anaconda3/lib/python3.8/site-packages/sklearn/metrics/_classification.py:1308: UndefinedMetricWarning: Precision and F-score are ill-defined and being set to 0.0 in labels with no predicted samples. Use `zero_division` parameter to control this behavior.\n",
      "  _warn_prf(average, modifier, msg_start, len(result))\n",
      "/Users/abdullahkhan/opt/anaconda3/lib/python3.8/site-packages/sklearn/metrics/_classification.py:1308: UndefinedMetricWarning: Precision and F-score are ill-defined and being set to 0.0 in labels with no predicted samples. Use `zero_division` parameter to control this behavior.\n",
      "  _warn_prf(average, modifier, msg_start, len(result))\n",
      "/Users/abdullahkhan/opt/anaconda3/lib/python3.8/site-packages/sklearn/metrics/_classification.py:1308: UndefinedMetricWarning: Precision and F-score are ill-defined and being set to 0.0 in labels with no predicted samples. Use `zero_division` parameter to control this behavior.\n",
      "  _warn_prf(average, modifier, msg_start, len(result))\n"
     ]
    }
   ],
   "source": [
    "import sklearn\n",
    "from sklearn.linear_model import LogisticRegression\n",
    "\n",
    "logreg = LogisticRegression()\n",
    "\n",
    "logreg.fit(X_train,y_train)\n",
    "names = ['X1','X2']\n",
    "\n",
    "y_train_pred = logreg.predict(X_train)\n",
    "y_test_pred = logreg.predict(X_test)\n",
    "print(sklearn.metrics.classification_report(y_train, y_train_pred, target_names = names))\n",
    "print(sklearn.metrics.classification_report(y_test, y_test_pred, target_names = names))"
   ]
  },
  {
   "cell_type": "markdown",
   "metadata": {},
   "source": [
    "# Question 2: Part B\n",
    "Plot the X_train data using matplotlib, use different colors to represent different classes. Comment on the pattern of data distributions, and reason why the logistic regression classifier in (a) does not perform very well."
   ]
  },
  {
   "cell_type": "code",
   "execution_count": 27,
   "metadata": {},
   "outputs": [
    {
     "data": {
      "image/png": "[encoded data removed]",
      "text/plain": [
       "<Figure size 432x288 with 1 Axes>"
      ]
     },
     "metadata": {
      "needs_background": "light"
     },
     "output_type": "display_data"
    }
   ],
   "source": [
    "from matplotlib import pyplot as plt\n",
    "plt.scatter(*X_train[y_train==0].T)\n",
    "plt.scatter(*X_train[y_train==1].T)\n",
    "plt.ylabel(r'$x_2$')\n",
    "plt.xlabel(r'$x_1$')\n",
    "plt.show()"
   ]
  },
  {
   "cell_type": "code",
   "execution_count": 28,
   "metadata": {},
   "outputs": [
    {
     "data": {
      "image/png": "[encoded data removed]",
      "text/plain": [
       "<Figure size 432x288 with 1 Axes>"
      ]
     },
     "metadata": {
      "needs_background": "light"
     },
     "output_type": "display_data"
    }
   ],
   "source": [
    "plt.scatter(*X_test[y_test==0].T)\n",
    "plt.scatter(*X_test[y_test==1].T)\n",
    "plt.ylabel(r'$x_2$')\n",
    "plt.xlabel(r'$x_1$')\n",
    "plt.show()"
   ]
  },
  {
   "cell_type": "markdown",
   "metadata": {},
   "source": [
    "# Part B: Written\n",
    "\n",
    "For both train and test the data is concentrated in the center around the origin in a circular pattern. As a result, the prediction struggles because there is no linear decision boundary to be found here. "
   ]
  },
  {
   "cell_type": "markdown",
   "metadata": {},
   "source": [
    "# Question 2: Part C\n",
    "Transform the input X_train and X_test data in such a way that a linear decision boundary will be effective. Train a new logistic regression classifier on this transformed X_train data. Use the trained model to make predictions on transformed X_train, transformed X_test respectively, and then report the accuracies and F1-scores."
   ]
  },
  {
   "cell_type": "code",
   "execution_count": 29,
   "metadata": {},
   "outputs": [
    {
     "name": "stdout",
     "output_type": "stream",
     "text": [
      "-------------------------X TRAIN-------------------------\n",
      "              precision    recall  f1-score   support\n",
      "\n",
      "          X1       0.71      1.00      0.83       214\n",
      "          X2       0.00      0.00      0.00        86\n",
      "\n",
      "    accuracy                           0.71       300\n",
      "   macro avg       0.36      0.50      0.42       300\n",
      "weighted avg       0.51      0.71      0.59       300\n",
      "\n",
      "\n",
      "-------------------------X TEST--------------------------\n",
      "              precision    recall  f1-score   support\n",
      "\n",
      "          X1       0.69      1.00      0.82        69\n",
      "          X2       0.00      0.00      0.00        31\n",
      "\n",
      "    accuracy                           0.69       100\n",
      "   macro avg       0.34      0.50      0.41       100\n",
      "weighted avg       0.48      0.69      0.56       100\n",
      "\n"
     ]
    },
    {
     "name": "stderr",
     "output_type": "stream",
     "text": [
      "/Users/abdullahkhan/opt/anaconda3/lib/python3.8/site-packages/sklearn/metrics/_classification.py:1308: UndefinedMetricWarning: Precision and F-score are ill-defined and being set to 0.0 in labels with no predicted samples. Use `zero_division` parameter to control this behavior.\n",
      "  _warn_prf(average, modifier, msg_start, len(result))\n",
      "/Users/abdullahkhan/opt/anaconda3/lib/python3.8/site-packages/sklearn/metrics/_classification.py:1308: UndefinedMetricWarning: Precision and F-score are ill-defined and being set to 0.0 in labels with no predicted samples. Use `zero_division` parameter to control this behavior.\n",
      "  _warn_prf(average, modifier, msg_start, len(result))\n",
      "/Users/abdullahkhan/opt/anaconda3/lib/python3.8/site-packages/sklearn/metrics/_classification.py:1308: UndefinedMetricWarning: Precision and F-score are ill-defined and being set to 0.0 in labels with no predicted samples. Use `zero_division` parameter to control this behavior.\n",
      "  _warn_prf(average, modifier, msg_start, len(result))\n",
      "/Users/abdullahkhan/opt/anaconda3/lib/python3.8/site-packages/sklearn/metrics/_classification.py:1308: UndefinedMetricWarning: Precision and F-score are ill-defined and being set to 0.0 in labels with no predicted samples. Use `zero_division` parameter to control this behavior.\n",
      "  _warn_prf(average, modifier, msg_start, len(result))\n",
      "/Users/abdullahkhan/opt/anaconda3/lib/python3.8/site-packages/sklearn/metrics/_classification.py:1308: UndefinedMetricWarning: Precision and F-score are ill-defined and being set to 0.0 in labels with no predicted samples. Use `zero_division` parameter to control this behavior.\n",
      "  _warn_prf(average, modifier, msg_start, len(result))\n",
      "/Users/abdullahkhan/opt/anaconda3/lib/python3.8/site-packages/sklearn/metrics/_classification.py:1308: UndefinedMetricWarning: Precision and F-score are ill-defined and being set to 0.0 in labels with no predicted samples. Use `zero_division` parameter to control this behavior.\n",
      "  _warn_prf(average, modifier, msg_start, len(result))\n"
     ]
    }
   ],
   "source": [
    "X_train_sq = np.square(X_train)\n",
    "X_test_sq = np.square(X_test)\n",
    "y_train_pred = logreg.predict(X_train_sq)\n",
    "y_test_pred = logreg.predict(X_test_sq)\n",
    "print('-------------------------X TRAIN-------------------------')\n",
    "print(sklearn.metrics.classification_report(y_train, y_train_pred, target_names = names))\n",
    "print('\\n-------------------------X TEST--------------------------')\n",
    "print(sklearn.metrics.classification_report(y_test, y_test_pred, target_names = names))"
   ]
  },
  {
   "cell_type": "markdown",
   "metadata": {
    "id": "3kuJ3AByMTpI"
   },
   "source": [
    "# Question 3: Bayesian Network (5 pts)\n",
    "\n",
    "A Bayesian network is a directed acyclic graph (DAG) that captures a subset of the independence relationships of a given joint probability distribution. \n",
    "\n",
    "In a Bayesian network $G=(V,E)$, each node $i \\in V$in the directed graph corresponds to a random variable and each directed edge $e \\in E$ represents a statistical dependence. Each node is associated with a conditional probability distribution of the corresponding random variables given its parents in the DAG. The joint probability distribution factorizes w.r.t the directed graph $G$ if $p(x_1, ..., x_n)=\\prod_{i \\in V} p(x_i | x_{parents(i)})$, provided the variables are visited in a topologically sorted order. Please write the joint probability distribution that factorizes w.r.t this graph, in as simple a form as possible (i.e. that results in the smallest possible conditional probability tables:\n"
   ]
  },
  {
   "cell_type": "code",
   "execution_count": 30,
   "metadata": {
    "colab": {
     "base_uri": "https://localhost:8080/",
     "height": 505
    },
    "id": "sfd86n0uP0dp",
    "outputId": "6cad03b4-86b3-4912-84df-dc378b00cbbb"
   },
   "outputs": [
    {
     "data": {
      "text/html": [
       "<iframe src=\"https://drive.google.com/file/d/1XigbvsWpNvlols3QarVjDfYf2Dnf3emy/preview\" width=\"640\" height=\"480\" allow=\"autoplay\"></iframe>\n"
      ],
      "text/plain": [
       "<IPython.core.display.HTML object>"
      ]
     },
     "metadata": {},
     "output_type": "display_data"
    }
   ],
   "source": [
    "%%html\n",
    "<iframe src=\"https://drive.google.com/file/d/1XigbvsWpNvlols3QarVjDfYf2Dnf3emy/preview\" width=\"640\" height=\"480\" allow=\"autoplay\"></iframe>"
   ]
  },
  {
   "cell_type": "markdown",
   "metadata": {
    "id": "_kUqyveiP6zV"
   },
   "source": [
    "## Answer:\n",
    "P(A) * P(B|A) * P(C|A,E) * P(D|B) * P(E|B) * P(F|C,D,E)"
   ]
  },
  {
   "cell_type": "markdown",
   "metadata": {
    "id": "KPukziKknW3K"
   },
   "source": [
    "# Question 4: Counterfactuals (25 pts)\n"
   ]
  },
  {
   "cell_type": "markdown",
   "metadata": {
    "id": "tASB8c_MJ2ZD"
   },
   "source": [
    "To show the effectiveness of a newly proposed model, one needs to compare it with multiple  existing solutions, across multiple datasets with different properties, and typically using multiple evaluation metrics. \n",
    "\n",
    "One of the emerging requirements in industry is to be able to explain decisions, and counterfactual (CF) explanations turn out to be a lead contender. Hence a new CF approach also needs to be evaluated comprehensively. See [1] for a review on conterfactual explanations. \n",
    "\n",
    "An example of a short comparative testing for CFs is given in [2], (you don’t need to understand the method in [2] since I have not covered this type of techinques in class, just see the result tables). The goal of this question is to **try to obtain results that are similar to those reported in [2]** (note that they give details of their model settings in the appendix). In particular, you will evaluate the following datasets: Breast Cancer, Pima diabetes and Adult Census across 5 metrics (Validity, sparsity, proximity, diversity, in-distributionness). \n",
    "\n",
    "**Note**: **Section A** students only need to report on the **Breat Cancer and Adult Census datasets** while **Section B** students only need to report results on the **Pima diabetes and Adult Census datasets**.\n",
    "\n",
    "[1] Verma, Dickerson, Hines. Counterfactual Explanations for Machine Learning: A Review. [arXiv:2010.10596](https://arxiv.org/abs/2010.10596) (2020) \n",
    "\n",
    "[2] Samoilescu, et al. Model-agnostic and Scalable Counterfactual Explanations via Reinforcement Learning.  [arXiv:2106.02597](https://arxiv.org/abs/2106.02597) (2021) \n",
    "\n",
    "\n",
    "a) Train **Random Forest, MLP and Logistic Regression** models on your datasets and report the accuracies on each of the datasets, show the accuracy on both the training and test set in a table.\n",
    "\n",
    "Use the code snippets given below to load the datasets and make the split using the following code snippet: ```X_train, X_test, y_train, y_test = train_test_split(X, y, test_size=0.33, random_state=42)``` \n",
    "\n",
    "```\n",
    "# Breast cancer dataset, for Section A only\n",
    "from sklearn.datasets import load_breast_cancer\n",
    "\n",
    "data = load_breast_cancer()\n",
    "X = data.data\n",
    "y = data.target\n",
    "cols = ['mean radius', 'mean texture', 'mean perimeter', 'mean area',\n",
    "        'mean smoothness', 'mean compactness', 'mean concavity',\n",
    "        'mean concave points', 'mean symmetry', 'mean fractal dimension',\n",
    "        'radius error', 'texture error', 'perimeter error', 'area error',\n",
    "        'smoothness error', 'compactness error', 'concavity error',\n",
    "        'concave points error', 'symmetry error',\n",
    "        'fractal dimension error', 'worst radius', 'worst texture',\n",
    "        'worst perimeter', 'worst area', 'worst smoothness',\n",
    "        'worst compactness', 'worst concavity', 'worst concave points',\n",
    "        'worst symmetry', 'worst fractal dimension']\n",
    "X = pd.DataFrame(data=X, columns=cols)\n",
    "\n",
    "# Pima Diabetes dataset, for Section B only\n",
    "def load_diabetes():\n",
    "  df = pd.read_csv('diabetes.csv')\n",
    "  X = df.drop(['Outcome'], axis=1)\n",
    "  y = df[['Outcome']]\n",
    "  return X, np.reshape(y, (-1, ))\n",
    "\n",
    "X, y = load_diabetes()\n",
    "\n",
    "# adult census dataset, for Section A and Section B\n",
    "def load_adult():\n",
    "  df = pd.read_csv('adult.csv')\n",
    "  df = pd.get_dummies(df)\n",
    "  X = df.drop(['target'], axis=1)\n",
    "  y = df[['target']]\n",
    "  return X, np.reshape(y, (-1, ))\n",
    "\n",
    "X, y = load_adult()\n",
    "```\n",
    "b) For each of the datasets, plot the calibration curves for the entire dataset. The [module](https://scikit-learn.org/stable/modules/calibration.html) from sklearn should help.\n",
    "\n",
    "For each dataset, the calibration curve should show a y=x line as the perfect calibration, as well as the calibration curves for each of the model predictions. Mark the plots correctly using a legend.\n",
    "\n",
    "c) [DiCE](https://github.com/interpretml/DiCE) is an open-source library that is based on the paper [Explaining Machine Learning Classifiers through Diverse Counterfactual Explanations](https://arxiv.org/abs/1905.07697). The codebase has 3 methods in which they generate counterfactuals - random sampling, KD-tree and genetic algorithm. Use DiCE (random) and DiCE (genetic) to generate 5 counterfactuals each for the first 50 data point in the test set for each of the models. Report the following metrics for each of the datasets and each of the models. So essentially, you will need to create a table for each dataset where the metrics are present in the columns and each row represents a different model. \n",
    "\n",
    "Here are some pointers that will help you get started with DiCE and the metrics needed. \n",
    "- Install the library using ```!pip install dice-ml```\n",
    "- They have an excellent documentation on their GitHub, and their implementation notebooks will be very helpful. You can check [this](https://github.com/interpretml/DiCE/blob/master/docs/source/notebooks/DiCE_model_agnostic_CFs.ipynb) to get started.\n",
    "- Section 4.1 in the [DiCE paper](https://arxiv.org/pdf/1905.07697.pdf) discuss and mathematically formulate validity, sparsity, diversity and proximity. Read those carefully and implement functions that can evaluate the metrics. Use the ```Continuous-Proximity``` metric just for simplicity. Use the ```Diversity``` metric and not ```Count-Diversity```.\n",
    "- For the in-distributionness, use the following code snippet to evaluate the MMD (maximum mean discrepancy) score.\n",
    "\n",
    "```\n",
    "def get_mmd_rbf(X, Y, gamma=1.0):\n",
    "    \"\"\"MMD using rbf (gaussian) kernel (i.e., k(x,y) = exp(-gamma * ||x-y||^2 / 2))\n",
    "    Arguments:\n",
    "        X {[n_sample1, dim]} -- [X matrix]\n",
    "        Y {[n_sample2, dim]} -- [Y matrix]\n",
    "    Keyword Arguments:\n",
    "        gamma {float} -- [kernel parameter] (default: {1.0})\n",
    "    Returns:\n",
    "        [scalar] -- [MMD value]\n",
    "    \"\"\"\n",
    "    XX = metrics.pairwise.rbf_kernel(X, X, gamma)\n",
    "    YY = metrics.pairwise.rbf_kernel(Y, Y, gamma)\n",
    "    XY = metrics.pairwise.rbf_kernel(X, Y, gamma)\n",
    "    return XX.mean() + YY.mean() - 2 * XY.mean()\n",
    "```\n"
   ]
  },
  {
   "cell_type": "markdown",
   "metadata": {
    "id": "gcLazqf-DLkq"
   },
   "source": [
    "## Answer:"
   ]
  },
  {
   "cell_type": "markdown",
   "metadata": {},
   "source": [
    "# Question 4: Part A"
   ]
  },
  {
   "cell_type": "markdown",
   "metadata": {},
   "source": [
    "Breast Cancer Data"
   ]
  },
  {
   "cell_type": "code",
   "execution_count": 31,
   "metadata": {},
   "outputs": [],
   "source": [
    "#Load Data Sets\n",
    "from sklearn.model_selection import train_test_split\n",
    "# Breast cancer dataset, for Section A only\n",
    "from sklearn.datasets import load_breast_cancer\n",
    "import pandas as pd\n",
    "import copy\n",
    "\n",
    "data = load_breast_cancer()\n",
    "X = data.data\n",
    "y = data.target\n",
    "cols = ['mean radius', 'mean texture', 'mean perimeter', 'mean area',\n",
    "        'mean smoothness', 'mean compactness', 'mean concavity',\n",
    "        'mean concave points', 'mean symmetry', 'mean fractal dimension',\n",
    "        'radius error', 'texture error', 'perimeter error', 'area error',\n",
    "        'smoothness error', 'compactness error', 'concavity error',\n",
    "        'concave points error', 'symmetry error',\n",
    "        'fractal dimension error', 'worst radius', 'worst texture',\n",
    "        'worst perimeter', 'worst area', 'worst smoothness',\n",
    "        'worst compactness', 'worst concavity', 'worst concave points',\n",
    "        'worst symmetry', 'worst fractal dimension']\n",
    "X = pd.DataFrame(data=X, columns=cols)\n",
    "X_train_bc, X_test_bc, y_train_bc, y_test_bc = train_test_split(X, y, test_size=0.33, random_state=42)\n",
    "X[\"Target\"] = y\n",
    "bc_df = copy.deepcopy(X)\n",
    "bc_df[\"Target\"] = y \n",
    "\n",
    "# # Pima Diabetes dataset, for Section B only\n",
    "# def load_diabetes():\n",
    "#     df = pd.read_csv('diabetes.csv')\n",
    "#     X = df.drop(['Outcome'], axis=1)\n",
    "#     y = df[['Outcome']]\n",
    "#     return X, np.reshape(y, (-1, ))\n",
    "\n",
    "# X, y = load_diabetes()\n",
    "# X_train_d, X_test_d, y_train_d, y_test_d = train_test_split(X, y, test_size=0.33, random_state=42)\n",
    "\n",
    "# adult census dataset, for Section A and Section B\n"
   ]
  },
  {
   "cell_type": "code",
   "execution_count": 32,
   "metadata": {},
   "outputs": [
    {
     "data": {
      "text/plain": [
       "array([0, 1, 0, 1, 1, 1, 1, 0, 1, 1, 0, 1, 1, 1, 0, 1, 0, 0, 1, 1, 1, 0,\n",
       "       1, 1, 1, 1, 0, 1, 1, 1, 1, 1, 0, 1, 0, 0, 1, 1, 0, 1, 1, 1, 1, 1,\n",
       "       1, 1, 0, 0, 0, 1, 1, 0, 1, 1, 0, 1, 0, 1, 0, 1, 0, 1, 1, 0, 1, 1,\n",
       "       1, 0, 1, 0, 1, 0, 1, 0, 1, 1, 0, 1, 1, 1, 1, 0, 1, 1, 1, 0, 1, 1,\n",
       "       0, 1, 1, 0, 1, 1, 1, 1, 1, 1, 1, 0, 1, 1, 1, 0, 1, 0, 1, 1, 1, 0,\n",
       "       1, 0, 0, 1, 1, 0, 1, 0, 0, 0, 1, 1, 1, 0, 1, 1, 0, 1, 0, 1, 1, 1,\n",
       "       0, 1, 0, 1, 1, 0, 0, 1, 1, 0, 1, 0, 0, 1, 0, 0, 1, 1, 0, 0, 0, 1,\n",
       "       1, 1, 1, 0, 1, 0, 0, 0, 0, 1, 1, 1, 1, 1, 1, 1, 1, 0, 0, 1, 1, 0,\n",
       "       1, 1, 1, 1, 1, 0, 1, 1, 0, 0, 1, 0, 1, 0, 1, 1, 1, 1, 1, 1, 0, 1,\n",
       "       1, 0, 1, 1, 1, 1, 1, 1, 0, 1, 1, 0, 1, 0, 0, 0, 1, 0, 1, 1, 0, 0,\n",
       "       0, 1, 1, 1, 1, 1, 1, 1, 0, 1, 1, 1, 0, 1, 1, 0, 0, 1, 0, 1, 0, 0,\n",
       "       1, 1, 0, 1, 0, 0, 1, 0, 0, 1, 1, 0, 1, 0, 1, 1, 0, 1, 1, 0, 0, 0,\n",
       "       1, 1, 1, 0, 0, 1, 0, 0, 1, 1, 1, 0, 1, 0, 0, 0, 0, 1, 1, 0, 1, 1,\n",
       "       0, 0, 0, 0, 0, 0, 1, 1, 1, 1, 1, 1, 1, 0, 0, 0, 0, 1, 1, 1, 1, 0,\n",
       "       1, 0, 1, 1, 1, 1, 1, 0, 0, 0, 1, 1, 0, 1, 1, 0, 0, 0, 0, 1, 1, 0,\n",
       "       0, 1, 1, 1, 0, 0, 0, 1, 1, 0, 1, 1, 1, 1, 0, 1, 1, 1, 1, 1, 1, 1,\n",
       "       1, 1, 0, 1, 1, 1, 1, 1, 1, 0, 1, 1, 0, 1, 1, 0, 0, 0, 1, 0, 0, 1,\n",
       "       0, 1, 1, 1, 1, 0, 1])"
      ]
     },
     "execution_count": 32,
     "metadata": {},
     "output_type": "execute_result"
    }
   ],
   "source": [
    "y_train_bc"
   ]
  },
  {
   "cell_type": "markdown",
   "metadata": {},
   "source": [
    "Adult Census"
   ]
  },
  {
   "cell_type": "code",
   "execution_count": null,
   "metadata": {},
   "outputs": [],
   "source": [
    "def load_adult():\n",
    "    df = pd.read_csv('adult.csv')\n",
    "    df = pd.get_dummies(df)\n",
    "    X = df.drop(['target'], axis=1)\n",
    "    y = df[['target']]\n",
    "    return X, np.reshape(y, (-1, ))\n",
    "\n",
    "X, y = load_adult()\n",
    "X_train_a, X_test_a, y_train_a, y_test_a = train_test_split(X, y, test_size=0.33, random_state=42)\n",
    "\n"
   ]
  },
  {
   "cell_type": "markdown",
   "metadata": {},
   "source": [
    "# Breast Cancer ---------------------------------------------------------\n",
    "## Logistic Regression"
   ]
  },
  {
   "cell_type": "code",
   "execution_count": 34,
   "metadata": {},
   "outputs": [
    {
     "name": "stdout",
     "output_type": "stream",
     "text": [
      "-------------------------X TRAIN-------------------------\n",
      "              precision    recall  f1-score   support\n",
      "\n",
      "           0       0.91      0.87      0.89       145\n",
      "           1       0.92      0.94      0.93       236\n",
      "\n",
      "    accuracy                           0.92       381\n",
      "   macro avg       0.91      0.91      0.91       381\n",
      "weighted avg       0.92      0.92      0.92       381\n",
      "\n",
      "\n",
      "-------------------------X TEST--------------------------\n",
      "              precision    recall  f1-score   support\n",
      "\n",
      "           0       1.00      0.99      0.99        67\n",
      "           1       0.99      1.00      1.00       121\n",
      "\n",
      "    accuracy                           0.99       188\n",
      "   macro avg       1.00      0.99      0.99       188\n",
      "weighted avg       0.99      0.99      0.99       188\n",
      "\n"
     ]
    },
    {
     "name": "stderr",
     "output_type": "stream",
     "text": [
      "/Users/abdullahkhan/opt/anaconda3/lib/python3.8/site-packages/sklearn/linear_model/_logistic.py:814: ConvergenceWarning: lbfgs failed to converge (status=1):\n",
      "STOP: TOTAL NO. of ITERATIONS REACHED LIMIT.\n",
      "\n",
      "Increase the number of iterations (max_iter) or scale the data as shown in:\n",
      "    https://scikit-learn.org/stable/modules/preprocessing.html\n",
      "Please also refer to the documentation for alternative solver options:\n",
      "    https://scikit-learn.org/stable/modules/linear_model.html#logistic-regression\n",
      "  n_iter_i = _check_optimize_result(\n",
      "/Users/abdullahkhan/opt/anaconda3/lib/python3.8/site-packages/sklearn/linear_model/_logistic.py:814: ConvergenceWarning: lbfgs failed to converge (status=1):\n",
      "STOP: TOTAL NO. of ITERATIONS REACHED LIMIT.\n",
      "\n",
      "Increase the number of iterations (max_iter) or scale the data as shown in:\n",
      "    https://scikit-learn.org/stable/modules/preprocessing.html\n",
      "Please also refer to the documentation for alternative solver options:\n",
      "    https://scikit-learn.org/stable/modules/linear_model.html#logistic-regression\n",
      "  n_iter_i = _check_optimize_result(\n"
     ]
    }
   ],
   "source": [
    "y_train_model_bc_lr = logreg.fit(X_train_bc, y_train_bc)\n",
    "y_test_model_bc_lr = logreg.fit(X_test_bc, y_test_bc)\n",
    "\n",
    "y_train_pred_bc_lr = logreg.predict(X_train_bc)\n",
    "y_test_pred_bc_lr = logreg.predict(X_test_bc)\n",
    "\n",
    "print('-------------------------X TRAIN-------------------------')\n",
    "print(sklearn.metrics.classification_report(y_train_bc, y_train_pred_bc_lr))\n",
    "print('\\n-------------------------X TEST--------------------------')\n",
    "print(sklearn.metrics.classification_report(y_test_bc, y_test_pred_bc_lr))"
   ]
  },
  {
   "cell_type": "markdown",
   "metadata": {},
   "source": [
    "## Random Forest"
   ]
  },
  {
   "cell_type": "code",
   "execution_count": 35,
   "metadata": {},
   "outputs": [
    {
     "name": "stdout",
     "output_type": "stream",
     "text": [
      "-------------------------X TRAIN-------------------------\n",
      "              precision    recall  f1-score   support\n",
      "\n",
      "           0       1.00      1.00      1.00       145\n",
      "           1       1.00      1.00      1.00       236\n",
      "\n",
      "    accuracy                           1.00       381\n",
      "   macro avg       1.00      1.00      1.00       381\n",
      "weighted avg       1.00      1.00      1.00       381\n",
      "\n",
      "\n",
      "-------------------------X TEST--------------------------\n",
      "              precision    recall  f1-score   support\n",
      "\n",
      "           0       0.95      0.94      0.95        67\n",
      "           1       0.97      0.98      0.97       121\n",
      "\n",
      "    accuracy                           0.96       188\n",
      "   macro avg       0.96      0.96      0.96       188\n",
      "weighted avg       0.96      0.96      0.96       188\n",
      "\n"
     ]
    }
   ],
   "source": [
    "from sklearn.ensemble import RandomForestClassifier\n",
    "rf = RandomForestClassifier()\n",
    "\n",
    "rf.fit(X_train_bc, y_train_bc)\n",
    "\n",
    "y_train_pred_bc_rf = rf.predict(X_train_bc)\n",
    "y_test_pred_bc_rf = rf.predict(X_test_bc)\n",
    "\n",
    "print('-------------------------X TRAIN-------------------------')\n",
    "print(sklearn.metrics.classification_report(y_train_bc, y_train_pred_bc_rf))\n",
    "print('\\n-------------------------X TEST--------------------------')\n",
    "print(sklearn.metrics.classification_report(y_test_bc, y_test_pred_bc_rf))"
   ]
  },
  {
   "cell_type": "markdown",
   "metadata": {},
   "source": [
    "## MLP"
   ]
  },
  {
   "cell_type": "code",
   "execution_count": 36,
   "metadata": {},
   "outputs": [
    {
     "name": "stdout",
     "output_type": "stream",
     "text": [
      "-------------------------X TRAIN-------------------------\n",
      "              precision    recall  f1-score   support\n",
      "\n",
      "           0       0.91      0.90      0.90       145\n",
      "           1       0.94      0.94      0.94       236\n",
      "\n",
      "    accuracy                           0.93       381\n",
      "   macro avg       0.92      0.92      0.92       381\n",
      "weighted avg       0.93      0.93      0.93       381\n",
      "\n",
      "\n",
      "-------------------------X TEST--------------------------\n",
      "              precision    recall  f1-score   support\n",
      "\n",
      "           0       0.91      0.94      0.93        67\n",
      "           1       0.97      0.95      0.96       121\n",
      "\n",
      "    accuracy                           0.95       188\n",
      "   macro avg       0.94      0.95      0.94       188\n",
      "weighted avg       0.95      0.95      0.95       188\n",
      "\n"
     ]
    },
    {
     "name": "stderr",
     "output_type": "stream",
     "text": [
      "/Users/abdullahkhan/opt/anaconda3/lib/python3.8/site-packages/sklearn/neural_network/_multilayer_perceptron.py:692: ConvergenceWarning: Stochastic Optimizer: Maximum iterations (200) reached and the optimization hasn't converged yet.\n",
      "  warnings.warn(\n"
     ]
    }
   ],
   "source": [
    "from sklearn.neural_network import MLPClassifier\n",
    "mlp = MLPClassifier()\n",
    "mlp.fit(X_train_bc, y_train_bc)\n",
    "\n",
    "y_train_pred_bc_mlp= mlp.predict(X_train_bc)\n",
    "y_test_pred_bc_mlp= mlp.predict(X_test_bc)\n",
    "\n",
    "print('-------------------------X TRAIN-------------------------')\n",
    "print(sklearn.metrics.classification_report(y_train_bc, y_train_pred_bc_mlp))\n",
    "print('\\n-------------------------X TEST--------------------------')\n",
    "print(sklearn.metrics.classification_report(y_test_bc, y_test_pred_bc_mlp))"
   ]
  },
  {
   "cell_type": "markdown",
   "metadata": {},
   "source": [
    "# Adult Census -----------------------------------------------------------------\n",
    "## Logistic Regression"
   ]
  },
  {
   "cell_type": "code",
   "execution_count": 37,
   "metadata": {},
   "outputs": [
    {
     "name": "stderr",
     "output_type": "stream",
     "text": [
      "/Users/abdullahkhan/opt/anaconda3/lib/python3.8/site-packages/sklearn/utils/validation.py:985: DataConversionWarning: A column-vector y was passed when a 1d array was expected. Please change the shape of y to (n_samples, ), for example using ravel().\n",
      "  y = column_or_1d(y, warn=True)\n"
     ]
    },
    {
     "name": "stdout",
     "output_type": "stream",
     "text": [
      "-------------------------X TRAIN-------------------------\n",
      "              precision    recall  f1-score   support\n",
      "\n",
      "           0       0.80      0.96      0.88     16524\n",
      "           1       0.71      0.27      0.39      5291\n",
      "\n",
      "    accuracy                           0.80     21815\n",
      "   macro avg       0.76      0.62      0.63     21815\n",
      "weighted avg       0.78      0.80      0.76     21815\n",
      "\n",
      "\n",
      "-------------------------X TEST--------------------------\n",
      "              precision    recall  f1-score   support\n",
      "\n",
      "           0       0.81      0.97      0.88      8196\n",
      "           1       0.73      0.27      0.39      2550\n",
      "\n",
      "    accuracy                           0.80     10746\n",
      "   macro avg       0.77      0.62      0.64     10746\n",
      "weighted avg       0.79      0.80      0.77     10746\n",
      "\n"
     ]
    },
    {
     "name": "stderr",
     "output_type": "stream",
     "text": [
      "/Users/abdullahkhan/opt/anaconda3/lib/python3.8/site-packages/sklearn/linear_model/_logistic.py:814: ConvergenceWarning: lbfgs failed to converge (status=1):\n",
      "STOP: TOTAL NO. of ITERATIONS REACHED LIMIT.\n",
      "\n",
      "Increase the number of iterations (max_iter) or scale the data as shown in:\n",
      "    https://scikit-learn.org/stable/modules/preprocessing.html\n",
      "Please also refer to the documentation for alternative solver options:\n",
      "    https://scikit-learn.org/stable/modules/linear_model.html#logistic-regression\n",
      "  n_iter_i = _check_optimize_result(\n",
      "/Users/abdullahkhan/opt/anaconda3/lib/python3.8/site-packages/sklearn/utils/validation.py:985: DataConversionWarning: A column-vector y was passed when a 1d array was expected. Please change the shape of y to (n_samples, ), for example using ravel().\n",
      "  y = column_or_1d(y, warn=True)\n"
     ]
    }
   ],
   "source": [
    "y_train_model_a_lr = logreg.fit(X_train_a, y_train_a)\n",
    "y_test_model_a_lr = logreg.fit(X_test_a, y_test_a)\n",
    "\n",
    "y_train_pred_a_lr = logreg.predict(X_train_a)\n",
    "y_test_pred_a_lr = logreg.predict(X_test_a)\n",
    "\n",
    "print('-------------------------X TRAIN-------------------------')\n",
    "print(sklearn.metrics.classification_report(y_train_a, y_train_pred_a_lr))\n",
    "print('\\n-------------------------X TEST--------------------------')\n",
    "print(sklearn.metrics.classification_report(y_test_a, y_test_pred_a_lr))"
   ]
  },
  {
   "cell_type": "markdown",
   "metadata": {},
   "source": [
    "## Random Forest"
   ]
  },
  {
   "cell_type": "code",
   "execution_count": 38,
   "metadata": {},
   "outputs": [
    {
     "name": "stderr",
     "output_type": "stream",
     "text": [
      "<ipython-input-38-88e5875c259f>:1: DataConversionWarning: A column-vector y was passed when a 1d array was expected. Please change the shape of y to (n_samples,), for example using ravel().\n",
      "  rf.fit(X_train_a, y_train_a)\n"
     ]
    },
    {
     "name": "stdout",
     "output_type": "stream",
     "text": [
      "-------------------------X TRAIN-------------------------\n",
      "              precision    recall  f1-score   support\n",
      "\n",
      "           0       1.00      1.00      1.00     16524\n",
      "           1       1.00      1.00      1.00      5291\n",
      "\n",
      "    accuracy                           1.00     21815\n",
      "   macro avg       1.00      1.00      1.00     21815\n",
      "weighted avg       1.00      1.00      1.00     21815\n",
      "\n",
      "\n",
      "-------------------------X TEST--------------------------\n",
      "              precision    recall  f1-score   support\n",
      "\n",
      "           0       0.89      0.92      0.91      8196\n",
      "           1       0.72      0.62      0.67      2550\n",
      "\n",
      "    accuracy                           0.85     10746\n",
      "   macro avg       0.80      0.77      0.79     10746\n",
      "weighted avg       0.85      0.85      0.85     10746\n",
      "\n"
     ]
    }
   ],
   "source": [
    "rf.fit(X_train_a, y_train_a)\n",
    "\n",
    "y_train_pred_a_rf = rf.predict(X_train_a)\n",
    "y_test_pred_a_rf = rf.predict(X_test_a)\n",
    "\n",
    "print('-------------------------X TRAIN-------------------------')\n",
    "print(sklearn.metrics.classification_report(y_train_a, y_train_pred_a_rf))\n",
    "print('\\n-------------------------X TEST--------------------------')\n",
    "print(sklearn.metrics.classification_report(y_test_a, y_test_pred_a_rf))"
   ]
  },
  {
   "cell_type": "markdown",
   "metadata": {},
   "source": [
    "## MLP"
   ]
  },
  {
   "cell_type": "code",
   "execution_count": 39,
   "metadata": {},
   "outputs": [
    {
     "name": "stderr",
     "output_type": "stream",
     "text": [
      "/Users/abdullahkhan/opt/anaconda3/lib/python3.8/site-packages/sklearn/neural_network/_multilayer_perceptron.py:1109: DataConversionWarning: A column-vector y was passed when a 1d array was expected. Please change the shape of y to (n_samples, ), for example using ravel().\n",
      "  y = column_or_1d(y, warn=True)\n"
     ]
    },
    {
     "name": "stdout",
     "output_type": "stream",
     "text": [
      "-------------------------X TRAIN-------------------------\n",
      "              precision    recall  f1-score   support\n",
      "\n",
      "           0       1.00      0.00      0.00     16524\n",
      "           1       0.24      1.00      0.39      5291\n",
      "\n",
      "    accuracy                           0.24     21815\n",
      "   macro avg       0.62      0.50      0.20     21815\n",
      "weighted avg       0.82      0.24      0.10     21815\n",
      "\n",
      "\n",
      "-------------------------X TEST--------------------------\n",
      "              precision    recall  f1-score   support\n",
      "\n",
      "           0       1.00      0.00      0.00      8196\n",
      "           1       0.24      1.00      0.38      2550\n",
      "\n",
      "    accuracy                           0.24     10746\n",
      "   macro avg       0.62      0.50      0.19     10746\n",
      "weighted avg       0.82      0.24      0.09     10746\n",
      "\n"
     ]
    }
   ],
   "source": [
    "mlp.fit(X_train_a, y_train_a)\n",
    "\n",
    "y_train_pred_a_mlp= mlp.predict(X_train_a)\n",
    "y_test_pred_a_mlp= mlp.predict(X_test_a)\n",
    "\n",
    "print('-------------------------X TRAIN-------------------------')\n",
    "print(sklearn.metrics.classification_report(y_train_a, y_train_pred_a_mlp))\n",
    "print('\\n-------------------------X TEST--------------------------')\n",
    "print(sklearn.metrics.classification_report(y_test_a, y_test_pred_a_mlp))"
   ]
  },
  {
   "cell_type": "markdown",
   "metadata": {},
   "source": [
    "# Question 4: Part B"
   ]
  },
  {
   "cell_type": "code",
   "execution_count": 40,
   "metadata": {},
   "outputs": [],
   "source": [
    "#from sklearn.calibration import calibration_curve\n",
    "#prob_true_bc_lr, prob_pred_bc_lr= calibration_curve(y_test_bc, y_test_pred_bc_lr, n_bins=3)\n",
    "#plt.show()"
   ]
  },
  {
   "cell_type": "code",
   "execution_count": 41,
   "metadata": {},
   "outputs": [],
   "source": [
    "import numpy as np\n",
    "\n",
    "from sklearn.svm import LinearSVC\n",
    "\n",
    "import matplotlib.pyplot as plt\n",
    "from matplotlib.gridspec import GridSpec\n",
    "\n",
    "#from sklearn.calibration import CalibratedClassifierCV, CalibrationDisplay\n",
    "from sklearn.linear_model import LogisticRegression\n",
    "\n",
    "clf_list = [\n",
    "    (logreg, \"Logistic\"),\n",
    "    (mlp, \"MLP\"),\n",
    "    (rf, \"Random Forests\"),\n",
    "]\n",
    "\n"
   ]
  },
  {
   "cell_type": "markdown",
   "metadata": {},
   "source": [
    "# Breast Cancer: "
   ]
  },
  {
   "cell_type": "code",
   "execution_count": 42,
   "metadata": {},
   "outputs": [],
   "source": [
    "data = load_breast_cancer()\n",
    "X = data.data\n",
    "y = data.target\n",
    "cols = ['mean radius', 'mean texture', 'mean perimeter', 'mean area',\n",
    "        'mean smoothness', 'mean compactness', 'mean concavity',\n",
    "        'mean concave points', 'mean symmetry', 'mean fractal dimension',\n",
    "        'radius error', 'texture error', 'perimeter error', 'area error',\n",
    "        'smoothness error', 'compactness error', 'concavity error',\n",
    "        'concave points error', 'symmetry error',\n",
    "        'fractal dimension error', 'worst radius', 'worst texture',\n",
    "        'worst perimeter', 'worst area', 'worst smoothness',\n",
    "        'worst compactness', 'worst concavity', 'worst concave points',\n",
    "        'worst symmetry', 'worst fractal dimension']\n",
    "X = pd.DataFrame(data=X, columns=cols)\n",
    "X_train_bc, X_test_bc, y_train_bc, y_test_bc = train_test_split(X, y, test_size=0.33, random_state=42)"
   ]
  },
  {
   "cell_type": "code",
   "execution_count": 43,
   "metadata": {},
   "outputs": [
    {
     "name": "stderr",
     "output_type": "stream",
     "text": [
      "/Users/abdullahkhan/opt/anaconda3/lib/python3.8/site-packages/sklearn/neural_network/_multilayer_perceptron.py:692: ConvergenceWarning: Stochastic Optimizer: Maximum iterations (200) reached and the optimization hasn't converged yet.\n",
      "  warnings.warn(\n"
     ]
    },
    {
     "data": {
      "image/png": "[encoded data removed]",
      "text/plain": [
       "<Figure size 720x720 with 4 Axes>"
      ]
     },
     "metadata": {
      "needs_background": "light"
     },
     "output_type": "display_data"
    }
   ],
   "source": [
    "from sklearn.calibration import CalibratedClassifierCV, CalibrationDisplay\n",
    "fig = plt.figure(figsize=(10, 10))\n",
    "gs = GridSpec(4, 2)\n",
    "colors = plt.cm.get_cmap(\"Dark2\")\n",
    "\n",
    "ax_calibration_curve = fig.add_subplot(gs[:2, :2])\n",
    "calibration_displays = {}\n",
    "for i, (clf, name) in enumerate(clf_list):\n",
    "    clf.fit(X_train, y_train)\n",
    "    display = CalibrationDisplay.from_estimator(\n",
    "        clf,\n",
    "        X_test,\n",
    "        y_test,\n",
    "        n_bins=10,\n",
    "        name=name,\n",
    "        ax=ax_calibration_curve,\n",
    "        color=colors(i),\n",
    "    )\n",
    "    calibration_displays[name] = display\n",
    "\n",
    "ax_calibration_curve.grid()\n",
    "ax_calibration_curve.set_title(\"Calibration plots ()\")\n",
    "\n",
    "# Add histogram\n",
    "grid_positions = [(2, 0), (2, 1), (3, 0), (3, 1)]\n",
    "for i, (_, name) in enumerate(clf_list):\n",
    "    row, col = grid_positions[i]\n",
    "    ax = fig.add_subplot(gs[row, col])\n",
    "\n",
    "    ax.hist(\n",
    "        calibration_displays[name].y_prob,\n",
    "        range=(0, 1),\n",
    "        bins=10,\n",
    "        label=name,\n",
    "        color=colors(i),\n",
    "    )\n",
    "    ax.set(title=name, xlabel=\"Mean predicted probability\", ylabel=\"Count\")\n",
    "\n",
    "plt.tight_layout()\n",
    "plt.show()\n"
   ]
  },
  {
   "cell_type": "markdown",
   "metadata": {},
   "source": [
    "# Adult Census:"
   ]
  },
  {
   "cell_type": "code",
   "execution_count": 44,
   "metadata": {},
   "outputs": [
    {
     "name": "stderr",
     "output_type": "stream",
     "text": [
      "/Users/abdullahkhan/opt/anaconda3/lib/python3.8/site-packages/sklearn/neural_network/_multilayer_perceptron.py:692: ConvergenceWarning: Stochastic Optimizer: Maximum iterations (200) reached and the optimization hasn't converged yet.\n",
      "  warnings.warn(\n"
     ]
    },
    {
     "data": {
      "image/png": "[encoded data removed]",
      "text/plain": [
       "<Figure size 720x720 with 4 Axes>"
      ]
     },
     "metadata": {
      "needs_background": "light"
     },
     "output_type": "display_data"
    }
   ],
   "source": [
    "from sklearn.calibration import CalibratedClassifierCV, CalibrationDisplay\n",
    "fig = plt.figure(figsize=(10, 10))\n",
    "gs = GridSpec(4, 2)\n",
    "colors = plt.cm.get_cmap(\"Dark2\")\n",
    "\n",
    "ax_calibration_curve = fig.add_subplot(gs[:2, :2])\n",
    "calibration_displays = {}\n",
    "for i, (clf, name) in enumerate(clf_list):\n",
    "    clf.fit(X_train, y_train)\n",
    "    display = CalibrationDisplay.from_estimator(\n",
    "        clf,\n",
    "        X_test,\n",
    "        y_test,\n",
    "        n_bins=10,\n",
    "        name=name,\n",
    "        ax=ax_calibration_curve,\n",
    "        color=colors(i),\n",
    "    )\n",
    "    calibration_displays[name] = display\n",
    "\n",
    "ax_calibration_curve.grid()\n",
    "ax_calibration_curve.set_title(\"Calibration plots ()\")\n",
    "\n",
    "# Add histogram\n",
    "grid_positions = [(2, 0), (2, 1), (3, 0), (3, 1)]\n",
    "for i, (_, name) in enumerate(clf_list):\n",
    "    row, col = grid_positions[i]\n",
    "    ax = fig.add_subplot(gs[row, col])\n",
    "\n",
    "    ax.hist(\n",
    "        calibration_displays[name].y_prob,\n",
    "        range=(0, 1),\n",
    "        bins=10,\n",
    "        label=name,\n",
    "        color=colors(i),\n",
    "    )\n",
    "    ax.set(title=name, xlabel=\"Mean predicted probability\", ylabel=\"Count\")\n",
    "\n",
    "plt.tight_layout()\n",
    "plt.show()\n"
   ]
  },
  {
   "cell_type": "code",
   "execution_count": 45,
   "metadata": {},
   "outputs": [],
   "source": [
    "#!sudo pip install -U scikit-learn\n"
   ]
  },
  {
   "cell_type": "code",
   "execution_count": 46,
   "metadata": {},
   "outputs": [],
   "source": [
    "class NaivelyCalibratedLinearSVC(LinearSVC):\n",
    "    def fit(self, X, y):\n",
    "        super().fit(X, y)\n",
    "        df = self.decision_function(X)\n",
    "        self.df_min_ = df.min()\n",
    "        self.df_max_ = df.max()\n",
    "\n",
    "    def predict_proba(self, X):\n",
    "        \"\"\"Min-max scale output of `decision_function` to [0, 1].\"\"\"\n",
    "        df = self.decision_function(X)\n",
    "        calibrated_df = (df - self.df_min_) / (self.df_max_ - self.df_min_)\n",
    "        proba_pos_class = np.clip(calibrated_df, 0, 1)\n",
    "        proba_neg_class = 1 - proba_pos_class\n",
    "        proba = np.c_[proba_neg_class, proba_pos_class]\n",
    "        return proba"
   ]
  },
  {
   "cell_type": "markdown",
   "metadata": {},
   "source": [
    "# Part C"
   ]
  },
  {
   "cell_type": "markdown",
   "metadata": {},
   "source": [
    "Breast Cancer:"
   ]
  },
  {
   "cell_type": "code",
   "execution_count": 61,
   "metadata": {},
   "outputs": [],
   "source": [
    "import dice_ml\n",
    "from dice_ml.utils import helpers  # helper functions\n",
    "\n",
    "from sklearn.compose import ColumnTransformer\n",
    "from sklearn.model_selection import train_test_split\n",
    "from sklearn.pipeline import Pipeline\n",
    "from sklearn.preprocessing import StandardScaler, OneHotEncoder\n",
    "from sklearn.ensemble import RandomForestClassifier\n",
    "# initiate DiCE\n",
    "d = dice_ml.Data(dataframe = bc_df, continuous_features = cols, outcome_name = 'Target')\n",
    "\n",
    "target = bc_df[\"Target\"]\n",
    "datasetX = bc_df.drop(\"Target\", axis=1)\n",
    "\n",
    "\n",
    "x_train_bc, x_test_bc, y_train_bc, y_test_bc = train_test_split(datasetX,\n",
    "                                                    target,\n",
    "                                                    test_size=0.33,\n",
    "                                                    random_state=42,\n",
    "                                                    stratify=target)\n",
    "\n",
    "numerical = cols\n",
    "categorical = x_train_bc.columns.difference(numerical)\n",
    "\n",
    "# We create the preprocessing pipelines for both numeric and categorical data.\n",
    "numeric_transformer = Pipeline(steps=[\n",
    "    ('scaler', StandardScaler())])\n",
    "\n",
    "categorical_transformer = Pipeline(steps=[\n",
    "    ('onehot', OneHotEncoder(handle_unknown='ignore'))])\n",
    "\n",
    "transformations = ColumnTransformer(\n",
    "    transformers=[\n",
    "        ('num', numeric_transformer, numerical),\n",
    "        ('cat', categorical_transformer, categorical)])\n",
    "\n",
    "\n"
   ]
  },
  {
   "cell_type": "code",
   "execution_count": null,
   "metadata": {},
   "outputs": [
    {
     "name": "stderr",
     "output_type": "stream",
     "text": [
      "100%|██████████| 15/15 [05:57<00:00, 23.86s/it]\n",
      "100%|██████████| 15/15 [00:03<00:00,  4.60it/s]\n",
      "100%|██████████| 15/15 [01:59<00:00,  7.95s/it]\n",
      "100%|██████████| 15/15 [00:02<00:00,  7.36it/s]\n",
      " 20%|██        | 3/15 [00:07<00:28,  2.39s/it]"
     ]
    },
    {
     "name": "stdout",
     "output_type": "stream",
     "text": [
      "Only 3 (required 5)  Diverse Counterfactuals found for the given configuration, perhaps try with different parameters... ; total time taken: 00 min 01 sec\n"
     ]
    },
    {
     "name": "stderr",
     "output_type": "stream",
     "text": [
      " 40%|████      | 6/15 [00:13<00:18,  2.07s/it]"
     ]
    }
   ],
   "source": [
    "# Append classifier to preprocessing pipeline.\n",
    "# Now we have a full prediction pipeline.\n",
    "clf = Pipeline(steps=[('preprocessor', transformations),\n",
    "                      ('classifier', RandomForestClassifier())])\n",
    "model = clf.fit(x_train_bc, y_train_bc)\n",
    "\n",
    "backend = 'sklearn'\n",
    "m = dice_ml.Model(model=model, backend=backend)\n",
    "\n",
    "exp_random = dice_ml.Dice(d, m, method=\"random\")\n",
    "exp_genetic = dice_ml.Dice(d, m, method = \"genetic\")\n",
    "\n",
    "query_instances = x_test_bc[:15]\n",
    "\n",
    "# generate counterfactuals\n",
    "dice_exp_random = exp_random.generate_counterfactuals(query_instances, total_CFs=5, desired_class=\"opposite\", verbose=False)\n",
    "\n",
    "bc_genetic_rf = exp_genetic.generate_counterfactuals(query_instances, total_CFs=5, desired_class=\"opposite\", verbose=False)\n",
    "\n",
    "\n",
    "#logit\n",
    "\n",
    "clf = Pipeline(steps=[('preprocessor', transformations),\n",
    "                      ('classifier', LogisticRegression(max_iter = 300))])\n",
    "model = clf.fit(x_train_bc, y_train_bc)\n",
    "\n",
    "backend = 'sklearn'\n",
    "m = dice_ml.Model(model=model, backend=backend)\n",
    "\n",
    "exp_random = dice_ml.Dice(d, m, method=\"random\")\n",
    "exp_genetic = dice_ml.Dice(d, m, method = \"genetic\")\n",
    "\n",
    "\n",
    "# generate counterfactuals\n",
    "dice_exp_random_lr = exp_random.generate_counterfactuals(query_instances, total_CFs=5, desired_class=\"opposite\", verbose=False)\n",
    "\n",
    "bc_genetic_lr = exp_genetic.generate_counterfactuals(query_instances, total_CFs=5, desired_class=\"opposite\", verbose=False)\n",
    "\n",
    "\n",
    "# MLP\n",
    "\n",
    "clf = Pipeline(steps=[('preprocessor', transformations),\n",
    "                      ('classifier', MLPClassifier(max_iter = 300))])\n",
    "model = clf.fit(x_train_bc, y_train_bc)\n",
    "\n",
    "backend = 'sklearn'\n",
    "m = dice_ml.Model(model=model, backend=backend)\n",
    "\n",
    "exp_random = dice_ml.Dice(d, m, method=\"random\")\n",
    "exp_genetic = dice_ml.Dice(d, m, method = \"genetic\")\n",
    "\n",
    "#query_instances = x_test_BC[:15]\n",
    "\n",
    "# generate counterfactuals\n",
    "dice_exp_random_MLP = exp_random.generate_counterfactuals(query_instances, total_CFs=5, desired_class=\"opposite\", verbose=False)\n",
    "\n",
    "bc_genetic_mlp = exp_genetic.generate_counterfactuals(query_instances, total_CFs=5, desired_class=\"opposite\", verbose=False)\n",
    "\n",
    "\n",
    "\n",
    "\n",
    "\n",
    "\n"
   ]
  },
  {
   "cell_type": "code",
   "execution_count": 49,
   "metadata": {},
   "outputs": [],
   "source": [
    "objects = [dice_exp_random.cf_examples_list, bc_genetic_rf.cf_examples_list, dice_exp_random_MLP.cf_examples_list,bc_genetic_mlp.cf_examples_list, \n",
    "           dice_exp_random_lr.cf_examples_list, bc_genetic_lr.cf_examples_list ]"
   ]
  },
  {
   "cell_type": "markdown",
   "metadata": {},
   "source": [
    "# Metrics"
   ]
  },
  {
   "cell_type": "code",
   "execution_count": null,
   "metadata": {},
   "outputs": [],
   "source": []
  },
  {
   "cell_type": "code",
   "execution_count": null,
   "metadata": {},
   "outputs": [],
   "source": []
  },
  {
   "cell_type": "code",
   "execution_count": null,
   "metadata": {},
   "outputs": [],
   "source": []
  },
  {
   "cell_type": "markdown",
   "metadata": {},
   "source": [
    "# Adult Dataset"
   ]
  },
  {
   "cell_type": "code",
   "execution_count": 56,
   "metadata": {},
   "outputs": [],
   "source": [
    "def load_adult():\n",
    "    df = pd.read_csv('adult.csv')\n",
    "    df = pd.get_dummies(df)\n",
    "    X = df.drop(['target'], axis=1)\n",
    "    y = df[['target']]\n",
    "    return X, np.reshape(y, (-1, ))\n",
    "\n",
    "X, y = load_adult()\n",
    "ac_df = X\n",
    "\n",
    "ac_df[\"Target\"] = y\n",
    "ac_df = ac_df.astype(int)\n",
    "ac_df_cols = list(X.columns[:66])\n",
    "\n"
   ]
  },
  {
   "cell_type": "code",
   "execution_count": 57,
   "metadata": {},
   "outputs": [],
   "source": [
    "# initiate DiCE\n",
    "d = dice_ml.Data(dataframe = ac_df, continuous_features = ac_df_cols, outcome_name = 'Target')\n",
    "\n",
    "target = ac_df[\"Target\"]\n",
    "datasetX = ac_df.drop(\"Target\", axis=1)\n",
    "\n",
    "\n",
    "x_train_ac, x_test_ac, y_train_ac, y_test_ac = train_test_split(datasetX,\n",
    "                                                    target,\n",
    "                                                    test_size=0.33,\n",
    "                                                    random_state=42,\n",
    "                                                    stratify=target)\n",
    "\n",
    "numerical = ac_df_cols\n",
    "categorical = x_train_ac.columns.difference(numerical)\n",
    "\n",
    "# We create the preprocessing pipelines for both numeric and categorical data.\n",
    "numeric_transformer = Pipeline(steps=[\n",
    "    ('scaler', StandardScaler())])\n",
    "\n",
    "categorical_transformer = Pipeline(steps=[\n",
    "    ('onehot', OneHotEncoder(handle_unknown='ignore'))])\n",
    "\n",
    "transformations = ColumnTransformer(\n",
    "    transformers=[\n",
    "        ('num', numeric_transformer, numerical),\n",
    "        ('cat', categorical_transformer, categorical)])\n",
    "\n",
    "\n"
   ]
  },
  {
   "cell_type": "code",
   "execution_count": null,
   "metadata": {},
   "outputs": [],
   "source": [
    "# Append classifier to preprocessing pipeline.\n",
    "# Now we have a full prediction pipeline.\n",
    "clf = Pipeline(steps=[('preprocessor', transformations),\n",
    "                      ('classifier', RandomForestClassifier())])\n",
    "model = clf.fit(x_train_ac, y_train_ac)\n",
    "\n",
    "backend = 'sklearn'\n",
    "m = dice_ml.Model(model=model, backend=backend)\n",
    "\n",
    "exp_random = dice_ml.Dice(d, m, method=\"random\")\n",
    "exp_genetic = dice_ml.Dice(d, m, method = \"genetic\")\n",
    "\n",
    "query_instances = x_test_bc[:15]\n",
    "\n",
    "# generate counterfactuals\n",
    "dice_exp_random = exp_random.generate_counterfactuals(query_instances, total_CFs=5, desired_class=\"opposite\", verbose=False)\n",
    "\n",
    "ac_genetic_rf = exp_genetic.generate_counterfactuals(query_instances, total_CFs=5, desired_class=\"opposite\", verbose=False)\n",
    "\n",
    "\n",
    "#logit\n",
    "\n",
    "clf = Pipeline(steps=[('preprocessor', transformations),\n",
    "                      ('classifier', LogisticRegression(max_iter = 300))])\n",
    "model = clf.fit(x_train_ac, y_train_ac)\n",
    "\n",
    "backend = 'sklearn'\n",
    "m = dice_ml.Model(model=model, backend=backend)\n",
    "\n",
    "exp_random = dice_ml.Dice(d, m, method=\"random\")\n",
    "exp_genetic = dice_ml.Dice(d, m, method = \"genetic\")\n",
    "\n",
    "\n",
    "# generate counterfactuals\n",
    "dice_exp_random_lr = exp_random.generate_counterfactuals(query_instances, total_CFs=5, desired_class=\"opposite\", verbose=False)\n",
    "\n",
    "ac_genetic_lr = exp_genetic.generate_counterfactuals(query_instances, total_CFs=5, desired_class=\"opposite\", verbose=False)\n",
    "\n",
    "# MLP\n",
    "\n",
    "clf = Pipeline(steps=[('preprocessor', transformations),\n",
    "                      ('classifier', MLPClassifier(max_iter = 300))])\n",
    "model = clf.fit(x_train_ac, y_train_ac)\n",
    "\n",
    "backend = 'sklearn'\n",
    "m = dice_ml.Model(model=model, backend=backend)\n",
    "\n",
    "exp_random = dice_ml.Dice(d, m, method=\"random\")\n",
    "exp_genetic = dice_ml.Dice(d, m, method = \"genetic\")\n",
    "\n",
    "#query_instances = x_test_BC[:15]\n",
    "\n",
    "# generate counterfactuals\n",
    "dice_exp_random_MLP = exp_random.generate_counterfactuals(query_instances, total_CFs=5, desired_class=\"opposite\", verbose=False)\n",
    "\n",
    "ac_genetic_mlp = exp_genetic.generate_counterfactuals(query_instances, total_CFs=5, desired_class=\"opposite\", verbose=False)\n",
    "\n",
    "\n",
    "\n"
   ]
  },
  {
   "cell_type": "code",
   "execution_count": 50,
   "metadata": {},
   "outputs": [],
   "source": [
    "def get_mmd_rbf(X, Y, gamma = 1.0):\n",
    "    \"\"\"MMD using rbf (gaussian) kernel (i.e., k(x,y) = exp(-gamma * ||x-y||^2/2))\n",
    "    Arguments:\n",
    "    X {[n_sample1, dim]} - [X matrix]\n",
    "    Y {[n_sample2, dim]} - [Y matrix]\n",
    "    Keyword Arguments:\n",
    "        gamma {float} - [kernel parameter] (default:{1.0})\n",
    "    Return:\n",
    "    [scalar] - [MMD value]\n",
    "    \"\"\"\n",
    "    \n",
    "    XX = rbf_kernel(X,X, gamma)\n",
    "    YY = rbf_kernel(Y,Y, gamma)\n",
    "    XY = rbf_kernel(X,Y, gamma)\n",
    "    return XX.mean() + YY.mean() - 2 * XY.mean()"
   ]
  },
  {
   "cell_type": "code",
   "execution_count": 51,
   "metadata": {},
   "outputs": [],
   "source": []
  },
  {
   "cell_type": "code",
   "execution_count": null,
   "metadata": {},
   "outputs": [],
   "source": []
  },
  {
   "cell_type": "code",
   "execution_count": null,
   "metadata": {},
   "outputs": [],
   "source": []
  }
 ],
 "metadata": {
  "colab": {
   "collapsed_sections": [],
   "name": "MIS382N_HW4-1.ipynb",
   "provenance": []
  },
  "kernelspec": {
   "display_name": "Python 3",
   "language": "python",
   "name": "python3"
  },
  "language_info": {
   "codemirror_mode": {
    "name": "ipython",
    "version": 3
   },
   "file_extension": ".py",
   "mimetype": "text/x-python",
   "name": "python",
   "nbconvert_exporter": "python",
   "pygments_lexer": "ipython3",
   "version": "3.8.8"
  }
 },
 "nbformat": 4,
 "nbformat_minor": 4
}

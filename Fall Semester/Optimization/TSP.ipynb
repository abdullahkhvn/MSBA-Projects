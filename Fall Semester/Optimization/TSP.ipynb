{
 "cells": [
  {
   "cell_type": "code",
   "execution_count": null,
   "metadata": {},
   "outputs": [],
   "source": [
    "import numpy as np\n",
    "import gurobipy as gp"
   ]
  },
  {
   "cell_type": "code",
   "execution_count": null,
   "metadata": {},
   "outputs": [],
   "source": [
    "M = 1000\n",
    "N = 5\n",
    "obj = np.array([M,132,217,164,58,132,M,290,201,79,217,290,M,113,303,164,201,113,M,196,58,79,303,196,M]+[0]*N)"
   ]
  },
  {
   "cell_type": "code",
   "execution_count": null,
   "metadata": {},
   "outputs": [],
   "source": [
    "A = np.zeros((2*N + (N-1)**2 - (N-1),N**2 + N))\n",
    "b = np.zeros(2*N + (N-1)**2 - (N-1))\n",
    "direction = np.array(['']*(2*N + (N-1)**2 - (N-1)))"
   ]
  },
  {
   "cell_type": "code",
   "execution_count": null,
   "metadata": {},
   "outputs": [],
   "source": [
    "ind_vec = np.array(range(N))\n",
    "row = 0\n",
    "for j in range(N):\n",
    "    A[row,j*N + ind_vec] = 1\n",
    "    b[row] = 1\n",
    "    direction[row] = '='\n",
    "    row+=1"
   ]
  },
  {
   "cell_type": "code",
   "execution_count": null,
   "metadata": {},
   "outputs": [],
   "source": [
    "for i in range(N):\n",
    "    A[row,ind_vec*N +i] = 1\n",
    "    b[row] = 1\n",
    "    direction[row] = '='\n",
    "    row+=1"
   ]
  },
  {
   "cell_type": "code",
   "execution_count": null,
   "metadata": {},
   "outputs": [],
   "source": [
    "for i in range(1,5):\n",
    "    for j in range(1,5):\n",
    "        if i != j:\n",
    "            A[row,[N**2+i,N**2+j,j*N+i]] = [1,-1,N]\n",
    "            b[row] = N-1\n",
    "            direction[row] = '<'\n",
    "            row+=1"
   ]
  },
  {
   "cell_type": "code",
   "execution_count": null,
   "metadata": {},
   "outputs": [],
   "source": []
  },
  {
   "cell_type": "code",
   "execution_count": null,
   "metadata": {},
   "outputs": [],
   "source": [
    "tspMod = gp.Model()\n",
    "tspMod_x = tspMod.addMVar(N**2 + N,vtype=['B']*25+['C']*5) \n",
    "tspMod_con = tspMod.addMConstrs(A, tspMod_x, direction, b)\n",
    "tspMod.setMObjective(None,obj,0,sense=gp.GRB.MINIMIZE)\n",
    "\n",
    "tspMod.Params.OutputFlag = 0 # tell gurobi to shut up!!\n",
    "tspMod.optimize()"
   ]
  },
  {
   "cell_type": "code",
   "execution_count": null,
   "metadata": {},
   "outputs": [],
   "source": [
    "tspMod_x.x"
   ]
  },
  {
   "cell_type": "code",
   "execution_count": null,
   "metadata": {},
   "outputs": [],
   "source": [
    "tspMod.objval"
   ]
  },
  {
   "cell_type": "code",
   "execution_count": null,
   "metadata": {},
   "outputs": [],
   "source": [
    "where = 0\n",
    "miles_traveled = 0\n",
    "print('Start in city 0.')\n",
    "for city in range(N):\n",
    "    where_new = np.where(tspMod_x.x[(where*N):((where+1)*N)])[0][0]\n",
    "    dist = obj[where*N+where_new]\n",
    "    miles_traveled += dist\n",
    "    print('Then go to city '+str(where_new)+', traveling '+str(dist)+' miles along the way.')\n",
    "    where = where_new\n",
    "print('For a total of '+str(miles_traveled)+' miles.')"
   ]
  },
  {
   "cell_type": "code",
   "execution_count": null,
   "metadata": {},
   "outputs": [],
   "source": [
    "# this path may not be unique, there are other paths that are optimal\n",
    "# but they'll all have the same total miles traveled!\n",
    "# for example 0 -> 2 -> 3 -> 1 -> 4 -> 0\n",
    "# also takes 668 miles!"
   ]
  },
  {
   "cell_type": "code",
   "execution_count": null,
   "metadata": {},
   "outputs": [],
   "source": [
    "seq = [0, 2, 3, 1, 4, 0]\n",
    "miles_traveled2 = 0\n",
    "for loc in range(5):\n",
    "    where = seq[loc]\n",
    "    where_new = seq[loc+1]\n",
    "    dist = obj[where*N+where_new]\n",
    "    miles_traveled2 += dist\n",
    "print(miles_traveled2)"
   ]
  },
  {
   "cell_type": "code",
   "execution_count": null,
   "metadata": {},
   "outputs": [],
   "source": [
    "# I have no idea how many other paths are optimal..."
   ]
  },
  {
   "cell_type": "code",
   "execution_count": null,
   "metadata": {},
   "outputs": [],
   "source": []
  }
 ],
 "metadata": {
  "kernelspec": {
   "display_name": "Python 3",
   "language": "python",
   "name": "python3"
  },
  "language_info": {
   "codemirror_mode": {
    "name": "ipython",
    "version": 3
   },
   "file_extension": ".py",
   "mimetype": "text/x-python",
   "name": "python",
   "nbconvert_exporter": "python",
   "pygments_lexer": "ipython3",
   "version": "3.7.4"
  }
 },
 "nbformat": 4,
 "nbformat_minor": 2
}
